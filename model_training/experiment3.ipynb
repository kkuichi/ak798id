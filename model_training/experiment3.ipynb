{
 "cells": [
  {
   "cell_type": "code",
   "execution_count": 2,
   "id": "e83e5e8d-af33-4fce-a02e-50d4f73a37fa",
   "metadata": {},
   "outputs": [
    {
     "name": "stdout",
     "output_type": "stream",
     "text": [
      "X_train shape: (258, 1500, 8)\n",
      "y_train shape: (258, 8)\n",
      "X_test shape: (66, 1500, 8)\n",
      "y_test shape: (66, 8)\n",
      "Встановлені ваги: для 1 → 3.0, для 0 → 1.0 (негативна вага фактично =1.0)\n"
     ]
    },
    {
     "name": "stderr",
     "output_type": "stream",
     "text": [
      "/opt/conda/lib/python3.12/site-packages/keras/src/layers/convolutional/base_conv.py:107: UserWarning: Do not pass an `input_shape`/`input_dim` argument to a layer. When using Sequential models, prefer using an `Input(shape)` object as the first layer in the model instead.\n",
      "  super().__init__(activity_regularizer=activity_regularizer, **kwargs)\n"
     ]
    },
    {
     "data": {
      "text/html": [
       "<pre style=\"white-space:pre;overflow-x:auto;line-height:normal;font-family:Menlo,'DejaVu Sans Mono',consolas,'Courier New',monospace\"><span style=\"font-weight: bold\">Model: \"sequential_1\"</span>\n",
       "</pre>\n"
      ],
      "text/plain": [
       "\u001b[1mModel: \"sequential_1\"\u001b[0m\n"
      ]
     },
     "metadata": {},
     "output_type": "display_data"
    },
    {
     "data": {
      "text/html": [
       "<pre style=\"white-space:pre;overflow-x:auto;line-height:normal;font-family:Menlo,'DejaVu Sans Mono',consolas,'Courier New',monospace\">┏━━━━━━━━━━━━━━━━━━━━━━━━━━━━━━━━━┳━━━━━━━━━━━━━━━━━━━━━━━━┳━━━━━━━━━━━━━━━┓\n",
       "┃<span style=\"font-weight: bold\"> Layer (type)                    </span>┃<span style=\"font-weight: bold\"> Output Shape           </span>┃<span style=\"font-weight: bold\">       Param # </span>┃\n",
       "┡━━━━━━━━━━━━━━━━━━━━━━━━━━━━━━━━━╇━━━━━━━━━━━━━━━━━━━━━━━━╇━━━━━━━━━━━━━━━┩\n",
       "│ conv1d_2 (<span style=\"color: #0087ff; text-decoration-color: #0087ff\">Conv1D</span>)               │ (<span style=\"color: #00d7ff; text-decoration-color: #00d7ff\">None</span>, <span style=\"color: #00af00; text-decoration-color: #00af00\">1500</span>, <span style=\"color: #00af00; text-decoration-color: #00af00\">128</span>)      │         <span style=\"color: #00af00; text-decoration-color: #00af00\">5,248</span> │\n",
       "├─────────────────────────────────┼────────────────────────┼───────────────┤\n",
       "│ batch_normalization_2           │ (<span style=\"color: #00d7ff; text-decoration-color: #00d7ff\">None</span>, <span style=\"color: #00af00; text-decoration-color: #00af00\">1500</span>, <span style=\"color: #00af00; text-decoration-color: #00af00\">128</span>)      │           <span style=\"color: #00af00; text-decoration-color: #00af00\">512</span> │\n",
       "│ (<span style=\"color: #0087ff; text-decoration-color: #0087ff\">BatchNormalization</span>)            │                        │               │\n",
       "├─────────────────────────────────┼────────────────────────┼───────────────┤\n",
       "│ max_pooling1d_2 (<span style=\"color: #0087ff; text-decoration-color: #0087ff\">MaxPooling1D</span>)  │ (<span style=\"color: #00d7ff; text-decoration-color: #00d7ff\">None</span>, <span style=\"color: #00af00; text-decoration-color: #00af00\">750</span>, <span style=\"color: #00af00; text-decoration-color: #00af00\">128</span>)       │             <span style=\"color: #00af00; text-decoration-color: #00af00\">0</span> │\n",
       "├─────────────────────────────────┼────────────────────────┼───────────────┤\n",
       "│ dropout_3 (<span style=\"color: #0087ff; text-decoration-color: #0087ff\">Dropout</span>)             │ (<span style=\"color: #00d7ff; text-decoration-color: #00d7ff\">None</span>, <span style=\"color: #00af00; text-decoration-color: #00af00\">750</span>, <span style=\"color: #00af00; text-decoration-color: #00af00\">128</span>)       │             <span style=\"color: #00af00; text-decoration-color: #00af00\">0</span> │\n",
       "├─────────────────────────────────┼────────────────────────┼───────────────┤\n",
       "│ conv1d_3 (<span style=\"color: #0087ff; text-decoration-color: #0087ff\">Conv1D</span>)               │ (<span style=\"color: #00d7ff; text-decoration-color: #00d7ff\">None</span>, <span style=\"color: #00af00; text-decoration-color: #00af00\">750</span>, <span style=\"color: #00af00; text-decoration-color: #00af00\">256</span>)       │        <span style=\"color: #00af00; text-decoration-color: #00af00\">98,560</span> │\n",
       "├─────────────────────────────────┼────────────────────────┼───────────────┤\n",
       "│ batch_normalization_3           │ (<span style=\"color: #00d7ff; text-decoration-color: #00d7ff\">None</span>, <span style=\"color: #00af00; text-decoration-color: #00af00\">750</span>, <span style=\"color: #00af00; text-decoration-color: #00af00\">256</span>)       │         <span style=\"color: #00af00; text-decoration-color: #00af00\">1,024</span> │\n",
       "│ (<span style=\"color: #0087ff; text-decoration-color: #0087ff\">BatchNormalization</span>)            │                        │               │\n",
       "├─────────────────────────────────┼────────────────────────┼───────────────┤\n",
       "│ max_pooling1d_3 (<span style=\"color: #0087ff; text-decoration-color: #0087ff\">MaxPooling1D</span>)  │ (<span style=\"color: #00d7ff; text-decoration-color: #00d7ff\">None</span>, <span style=\"color: #00af00; text-decoration-color: #00af00\">375</span>, <span style=\"color: #00af00; text-decoration-color: #00af00\">256</span>)       │             <span style=\"color: #00af00; text-decoration-color: #00af00\">0</span> │\n",
       "├─────────────────────────────────┼────────────────────────┼───────────────┤\n",
       "│ dropout_4 (<span style=\"color: #0087ff; text-decoration-color: #0087ff\">Dropout</span>)             │ (<span style=\"color: #00d7ff; text-decoration-color: #00d7ff\">None</span>, <span style=\"color: #00af00; text-decoration-color: #00af00\">375</span>, <span style=\"color: #00af00; text-decoration-color: #00af00\">256</span>)       │             <span style=\"color: #00af00; text-decoration-color: #00af00\">0</span> │\n",
       "├─────────────────────────────────┼────────────────────────┼───────────────┤\n",
       "│ lstm_1 (<span style=\"color: #0087ff; text-decoration-color: #0087ff\">LSTM</span>)                   │ (<span style=\"color: #00d7ff; text-decoration-color: #00d7ff\">None</span>, <span style=\"color: #00af00; text-decoration-color: #00af00\">64</span>)             │        <span style=\"color: #00af00; text-decoration-color: #00af00\">82,176</span> │\n",
       "├─────────────────────────────────┼────────────────────────┼───────────────┤\n",
       "│ dropout_5 (<span style=\"color: #0087ff; text-decoration-color: #0087ff\">Dropout</span>)             │ (<span style=\"color: #00d7ff; text-decoration-color: #00d7ff\">None</span>, <span style=\"color: #00af00; text-decoration-color: #00af00\">64</span>)             │             <span style=\"color: #00af00; text-decoration-color: #00af00\">0</span> │\n",
       "├─────────────────────────────────┼────────────────────────┼───────────────┤\n",
       "│ dense_1 (<span style=\"color: #0087ff; text-decoration-color: #0087ff\">Dense</span>)                 │ (<span style=\"color: #00d7ff; text-decoration-color: #00d7ff\">None</span>, <span style=\"color: #00af00; text-decoration-color: #00af00\">8</span>)              │           <span style=\"color: #00af00; text-decoration-color: #00af00\">520</span> │\n",
       "└─────────────────────────────────┴────────────────────────┴───────────────┘\n",
       "</pre>\n"
      ],
      "text/plain": [
       "┏━━━━━━━━━━━━━━━━━━━━━━━━━━━━━━━━━┳━━━━━━━━━━━━━━━━━━━━━━━━┳━━━━━━━━━━━━━━━┓\n",
       "┃\u001b[1m \u001b[0m\u001b[1mLayer (type)                   \u001b[0m\u001b[1m \u001b[0m┃\u001b[1m \u001b[0m\u001b[1mOutput Shape          \u001b[0m\u001b[1m \u001b[0m┃\u001b[1m \u001b[0m\u001b[1m      Param #\u001b[0m\u001b[1m \u001b[0m┃\n",
       "┡━━━━━━━━━━━━━━━━━━━━━━━━━━━━━━━━━╇━━━━━━━━━━━━━━━━━━━━━━━━╇━━━━━━━━━━━━━━━┩\n",
       "│ conv1d_2 (\u001b[38;5;33mConv1D\u001b[0m)               │ (\u001b[38;5;45mNone\u001b[0m, \u001b[38;5;34m1500\u001b[0m, \u001b[38;5;34m128\u001b[0m)      │         \u001b[38;5;34m5,248\u001b[0m │\n",
       "├─────────────────────────────────┼────────────────────────┼───────────────┤\n",
       "│ batch_normalization_2           │ (\u001b[38;5;45mNone\u001b[0m, \u001b[38;5;34m1500\u001b[0m, \u001b[38;5;34m128\u001b[0m)      │           \u001b[38;5;34m512\u001b[0m │\n",
       "│ (\u001b[38;5;33mBatchNormalization\u001b[0m)            │                        │               │\n",
       "├─────────────────────────────────┼────────────────────────┼───────────────┤\n",
       "│ max_pooling1d_2 (\u001b[38;5;33mMaxPooling1D\u001b[0m)  │ (\u001b[38;5;45mNone\u001b[0m, \u001b[38;5;34m750\u001b[0m, \u001b[38;5;34m128\u001b[0m)       │             \u001b[38;5;34m0\u001b[0m │\n",
       "├─────────────────────────────────┼────────────────────────┼───────────────┤\n",
       "│ dropout_3 (\u001b[38;5;33mDropout\u001b[0m)             │ (\u001b[38;5;45mNone\u001b[0m, \u001b[38;5;34m750\u001b[0m, \u001b[38;5;34m128\u001b[0m)       │             \u001b[38;5;34m0\u001b[0m │\n",
       "├─────────────────────────────────┼────────────────────────┼───────────────┤\n",
       "│ conv1d_3 (\u001b[38;5;33mConv1D\u001b[0m)               │ (\u001b[38;5;45mNone\u001b[0m, \u001b[38;5;34m750\u001b[0m, \u001b[38;5;34m256\u001b[0m)       │        \u001b[38;5;34m98,560\u001b[0m │\n",
       "├─────────────────────────────────┼────────────────────────┼───────────────┤\n",
       "│ batch_normalization_3           │ (\u001b[38;5;45mNone\u001b[0m, \u001b[38;5;34m750\u001b[0m, \u001b[38;5;34m256\u001b[0m)       │         \u001b[38;5;34m1,024\u001b[0m │\n",
       "│ (\u001b[38;5;33mBatchNormalization\u001b[0m)            │                        │               │\n",
       "├─────────────────────────────────┼────────────────────────┼───────────────┤\n",
       "│ max_pooling1d_3 (\u001b[38;5;33mMaxPooling1D\u001b[0m)  │ (\u001b[38;5;45mNone\u001b[0m, \u001b[38;5;34m375\u001b[0m, \u001b[38;5;34m256\u001b[0m)       │             \u001b[38;5;34m0\u001b[0m │\n",
       "├─────────────────────────────────┼────────────────────────┼───────────────┤\n",
       "│ dropout_4 (\u001b[38;5;33mDropout\u001b[0m)             │ (\u001b[38;5;45mNone\u001b[0m, \u001b[38;5;34m375\u001b[0m, \u001b[38;5;34m256\u001b[0m)       │             \u001b[38;5;34m0\u001b[0m │\n",
       "├─────────────────────────────────┼────────────────────────┼───────────────┤\n",
       "│ lstm_1 (\u001b[38;5;33mLSTM\u001b[0m)                   │ (\u001b[38;5;45mNone\u001b[0m, \u001b[38;5;34m64\u001b[0m)             │        \u001b[38;5;34m82,176\u001b[0m │\n",
       "├─────────────────────────────────┼────────────────────────┼───────────────┤\n",
       "│ dropout_5 (\u001b[38;5;33mDropout\u001b[0m)             │ (\u001b[38;5;45mNone\u001b[0m, \u001b[38;5;34m64\u001b[0m)             │             \u001b[38;5;34m0\u001b[0m │\n",
       "├─────────────────────────────────┼────────────────────────┼───────────────┤\n",
       "│ dense_1 (\u001b[38;5;33mDense\u001b[0m)                 │ (\u001b[38;5;45mNone\u001b[0m, \u001b[38;5;34m8\u001b[0m)              │           \u001b[38;5;34m520\u001b[0m │\n",
       "└─────────────────────────────────┴────────────────────────┴───────────────┘\n"
      ]
     },
     "metadata": {},
     "output_type": "display_data"
    },
    {
     "data": {
      "text/html": [
       "<pre style=\"white-space:pre;overflow-x:auto;line-height:normal;font-family:Menlo,'DejaVu Sans Mono',consolas,'Courier New',monospace\"><span style=\"font-weight: bold\"> Total params: </span><span style=\"color: #00af00; text-decoration-color: #00af00\">188,040</span> (734.53 KB)\n",
       "</pre>\n"
      ],
      "text/plain": [
       "\u001b[1m Total params: \u001b[0m\u001b[38;5;34m188,040\u001b[0m (734.53 KB)\n"
      ]
     },
     "metadata": {},
     "output_type": "display_data"
    },
    {
     "data": {
      "text/html": [
       "<pre style=\"white-space:pre;overflow-x:auto;line-height:normal;font-family:Menlo,'DejaVu Sans Mono',consolas,'Courier New',monospace\"><span style=\"font-weight: bold\"> Trainable params: </span><span style=\"color: #00af00; text-decoration-color: #00af00\">187,272</span> (731.53 KB)\n",
       "</pre>\n"
      ],
      "text/plain": [
       "\u001b[1m Trainable params: \u001b[0m\u001b[38;5;34m187,272\u001b[0m (731.53 KB)\n"
      ]
     },
     "metadata": {},
     "output_type": "display_data"
    },
    {
     "data": {
      "text/html": [
       "<pre style=\"white-space:pre;overflow-x:auto;line-height:normal;font-family:Menlo,'DejaVu Sans Mono',consolas,'Courier New',monospace\"><span style=\"font-weight: bold\"> Non-trainable params: </span><span style=\"color: #00af00; text-decoration-color: #00af00\">768</span> (3.00 KB)\n",
       "</pre>\n"
      ],
      "text/plain": [
       "\u001b[1m Non-trainable params: \u001b[0m\u001b[38;5;34m768\u001b[0m (3.00 KB)\n"
      ]
     },
     "metadata": {},
     "output_type": "display_data"
    },
    {
     "name": "stdout",
     "output_type": "stream",
     "text": [
      "Epoch 1/100\n",
      "\u001b[1m15/15\u001b[0m \u001b[32m━━━━━━━━━━━━━━━━━━━━\u001b[0m\u001b[37m\u001b[0m \u001b[1m0s\u001b[0m 214ms/step - accuracy: 0.1201 - loss: 1.0258\n",
      "Epoch 1: val_loss improved from inf to 1.05805, saving model to model_8bins_manual_weight_proverka.h5\n"
     ]
    },
    {
     "name": "stderr",
     "output_type": "stream",
     "text": [
      "WARNING:absl:You are saving your model as an HDF5 file via `model.save()` or `keras.saving.save_model(model)`. This file format is considered legacy. We recommend using instead the native Keras format, e.g. `model.save('my_model.keras')` or `keras.saving.save_model(model, 'my_model.keras')`. \n"
     ]
    },
    {
     "name": "stdout",
     "output_type": "stream",
     "text": [
      "\u001b[1m15/15\u001b[0m \u001b[32m━━━━━━━━━━━━━━━━━━━━\u001b[0m\u001b[37m\u001b[0m \u001b[1m6s\u001b[0m 250ms/step - accuracy: 0.1212 - loss: 1.0241 - val_accuracy: 0.1923 - val_loss: 1.0581\n",
      "Epoch 2/100\n",
      "\u001b[1m15/15\u001b[0m \u001b[32m━━━━━━━━━━━━━━━━━━━━\u001b[0m\u001b[37m\u001b[0m \u001b[1m0s\u001b[0m 212ms/step - accuracy: 0.1268 - loss: 0.9513\n",
      "Epoch 2: val_loss improved from 1.05805 to 1.05699, saving model to model_8bins_manual_weight_proverka.h5\n"
     ]
    },
    {
     "name": "stderr",
     "output_type": "stream",
     "text": [
      "WARNING:absl:You are saving your model as an HDF5 file via `model.save()` or `keras.saving.save_model(model)`. This file format is considered legacy. We recommend using instead the native Keras format, e.g. `model.save('my_model.keras')` or `keras.saving.save_model(model, 'my_model.keras')`. \n"
     ]
    },
    {
     "name": "stdout",
     "output_type": "stream",
     "text": [
      "\u001b[1m15/15\u001b[0m \u001b[32m━━━━━━━━━━━━━━━━━━━━\u001b[0m\u001b[37m\u001b[0m \u001b[1m3s\u001b[0m 232ms/step - accuracy: 0.1278 - loss: 0.9532 - val_accuracy: 0.1923 - val_loss: 1.0570\n",
      "Epoch 3/100\n",
      "\u001b[1m15/15\u001b[0m \u001b[32m━━━━━━━━━━━━━━━━━━━━\u001b[0m\u001b[37m\u001b[0m \u001b[1m0s\u001b[0m 215ms/step - accuracy: 0.1327 - loss: 0.9705\n",
      "Epoch 3: val_loss improved from 1.05699 to 1.05668, saving model to model_8bins_manual_weight_proverka.h5\n"
     ]
    },
    {
     "name": "stderr",
     "output_type": "stream",
     "text": [
      "WARNING:absl:You are saving your model as an HDF5 file via `model.save()` or `keras.saving.save_model(model)`. This file format is considered legacy. We recommend using instead the native Keras format, e.g. `model.save('my_model.keras')` or `keras.saving.save_model(model, 'my_model.keras')`. \n"
     ]
    },
    {
     "name": "stdout",
     "output_type": "stream",
     "text": [
      "\u001b[1m15/15\u001b[0m \u001b[32m━━━━━━━━━━━━━━━━━━━━\u001b[0m\u001b[37m\u001b[0m \u001b[1m4s\u001b[0m 235ms/step - accuracy: 0.1325 - loss: 0.9708 - val_accuracy: 0.1923 - val_loss: 1.0567\n",
      "Epoch 4/100\n",
      "\u001b[1m15/15\u001b[0m \u001b[32m━━━━━━━━━━━━━━━━━━━━\u001b[0m\u001b[37m\u001b[0m \u001b[1m0s\u001b[0m 213ms/step - accuracy: 0.0985 - loss: 0.9950\n",
      "Epoch 4: val_loss improved from 1.05668 to 1.05610, saving model to model_8bins_manual_weight_proverka.h5\n"
     ]
    },
    {
     "name": "stderr",
     "output_type": "stream",
     "text": [
      "WARNING:absl:You are saving your model as an HDF5 file via `model.save()` or `keras.saving.save_model(model)`. This file format is considered legacy. We recommend using instead the native Keras format, e.g. `model.save('my_model.keras')` or `keras.saving.save_model(model, 'my_model.keras')`. \n"
     ]
    },
    {
     "name": "stdout",
     "output_type": "stream",
     "text": [
      "\u001b[1m15/15\u001b[0m \u001b[32m━━━━━━━━━━━━━━━━━━━━\u001b[0m\u001b[37m\u001b[0m \u001b[1m4s\u001b[0m 233ms/step - accuracy: 0.0988 - loss: 0.9929 - val_accuracy: 0.1923 - val_loss: 1.0561\n",
      "Epoch 5/100\n",
      "\u001b[1m15/15\u001b[0m \u001b[32m━━━━━━━━━━━━━━━━━━━━\u001b[0m\u001b[37m\u001b[0m \u001b[1m0s\u001b[0m 210ms/step - accuracy: 0.1034 - loss: 0.9439\n",
      "Epoch 5: val_loss did not improve from 1.05610\n",
      "\u001b[1m15/15\u001b[0m \u001b[32m━━━━━━━━━━━━━━━━━━━━\u001b[0m\u001b[37m\u001b[0m \u001b[1m3s\u001b[0m 225ms/step - accuracy: 0.1064 - loss: 0.9442 - val_accuracy: 0.1923 - val_loss: 1.0581\n",
      "Epoch 6/100\n",
      "\u001b[1m15/15\u001b[0m \u001b[32m━━━━━━━━━━━━━━━━━━━━\u001b[0m\u001b[37m\u001b[0m \u001b[1m0s\u001b[0m 211ms/step - accuracy: 0.1863 - loss: 0.9180\n",
      "Epoch 6: val_loss did not improve from 1.05610\n",
      "\u001b[1m15/15\u001b[0m \u001b[32m━━━━━━━━━━━━━━━━━━━━\u001b[0m\u001b[37m\u001b[0m \u001b[1m3s\u001b[0m 227ms/step - accuracy: 0.1862 - loss: 0.9191 - val_accuracy: 0.1923 - val_loss: 1.0714\n",
      "Epoch 7/100\n",
      "\u001b[1m15/15\u001b[0m \u001b[32m━━━━━━━━━━━━━━━━━━━━\u001b[0m\u001b[37m\u001b[0m \u001b[1m0s\u001b[0m 210ms/step - accuracy: 0.2350 - loss: 0.9679\n",
      "Epoch 7: val_loss did not improve from 1.05610\n",
      "\u001b[1m15/15\u001b[0m \u001b[32m━━━━━━━━━━━━━━━━━━━━\u001b[0m\u001b[37m\u001b[0m \u001b[1m3s\u001b[0m 225ms/step - accuracy: 0.2343 - loss: 0.9671 - val_accuracy: 0.1923 - val_loss: 1.1464\n",
      "Epoch 8/100\n",
      "\u001b[1m15/15\u001b[0m \u001b[32m━━━━━━━━━━━━━━━━━━━━\u001b[0m\u001b[37m\u001b[0m \u001b[1m0s\u001b[0m 209ms/step - accuracy: 0.1787 - loss: 0.8914\n",
      "Epoch 8: val_loss did not improve from 1.05610\n",
      "\u001b[1m15/15\u001b[0m \u001b[32m━━━━━━━━━━━━━━━━━━━━\u001b[0m\u001b[37m\u001b[0m \u001b[1m3s\u001b[0m 224ms/step - accuracy: 0.1775 - loss: 0.8931 - val_accuracy: 0.0769 - val_loss: 1.1799\n",
      "Epoch 9/100\n",
      "\u001b[1m15/15\u001b[0m \u001b[32m━━━━━━━━━━━━━━━━━━━━\u001b[0m\u001b[37m\u001b[0m \u001b[1m0s\u001b[0m 211ms/step - accuracy: 0.1616 - loss: 0.8544\n",
      "Epoch 9: val_loss did not improve from 1.05610\n",
      "\u001b[1m15/15\u001b[0m \u001b[32m━━━━━━━━━━━━━━━━━━━━\u001b[0m\u001b[37m\u001b[0m \u001b[1m3s\u001b[0m 227ms/step - accuracy: 0.1612 - loss: 0.8574 - val_accuracy: 0.2308 - val_loss: 1.2200\n",
      "Epoch 10/100\n",
      "\u001b[1m15/15\u001b[0m \u001b[32m━━━━━━━━━━━━━━━━━━━━\u001b[0m\u001b[37m\u001b[0m \u001b[1m0s\u001b[0m 212ms/step - accuracy: 0.1291 - loss: 0.9109\n",
      "Epoch 10: val_loss did not improve from 1.05610\n",
      "\u001b[1m15/15\u001b[0m \u001b[32m━━━━━━━━━━━━━━━━━━━━\u001b[0m\u001b[37m\u001b[0m \u001b[1m3s\u001b[0m 227ms/step - accuracy: 0.1312 - loss: 0.9106 - val_accuracy: 0.2308 - val_loss: 1.2138\n",
      "Epoch 11/100\n",
      "\u001b[1m15/15\u001b[0m \u001b[32m━━━━━━━━━━━━━━━━━━━━\u001b[0m\u001b[37m\u001b[0m \u001b[1m0s\u001b[0m 214ms/step - accuracy: 0.1408 - loss: 0.8922\n",
      "Epoch 11: val_loss did not improve from 1.05610\n",
      "\u001b[1m15/15\u001b[0m \u001b[32m━━━━━━━━━━━━━━━━━━━━\u001b[0m\u001b[37m\u001b[0m \u001b[1m3s\u001b[0m 229ms/step - accuracy: 0.1414 - loss: 0.8924 - val_accuracy: 0.1538 - val_loss: 1.2006\n",
      "Epoch 12/100\n",
      "\u001b[1m15/15\u001b[0m \u001b[32m━━━━━━━━━━━━━━━━━━━━\u001b[0m\u001b[37m\u001b[0m \u001b[1m0s\u001b[0m 213ms/step - accuracy: 0.1853 - loss: 0.9194\n",
      "Epoch 12: val_loss did not improve from 1.05610\n",
      "\u001b[1m15/15\u001b[0m \u001b[32m━━━━━━━━━━━━━━━━━━━━\u001b[0m\u001b[37m\u001b[0m \u001b[1m3s\u001b[0m 226ms/step - accuracy: 0.1837 - loss: 0.9192 - val_accuracy: 0.1154 - val_loss: 1.0841\n",
      "Epoch 13/100\n",
      "\u001b[1m15/15\u001b[0m \u001b[32m━━━━━━━━━━━━━━━━━━━━\u001b[0m\u001b[37m\u001b[0m \u001b[1m0s\u001b[0m 213ms/step - accuracy: 0.2309 - loss: 0.9050\n",
      "Epoch 13: val_loss did not improve from 1.05610\n",
      "\u001b[1m15/15\u001b[0m \u001b[32m━━━━━━━━━━━━━━━━━━━━\u001b[0m\u001b[37m\u001b[0m \u001b[1m3s\u001b[0m 228ms/step - accuracy: 0.2297 - loss: 0.9062 - val_accuracy: 0.1154 - val_loss: 1.0726\n",
      "Epoch 14/100\n",
      "\u001b[1m15/15\u001b[0m \u001b[32m━━━━━━━━━━━━━━━━━━━━\u001b[0m\u001b[37m\u001b[0m \u001b[1m0s\u001b[0m 210ms/step - accuracy: 0.1935 - loss: 0.9590\n",
      "Epoch 14: val_loss improved from 1.05610 to 1.02460, saving model to model_8bins_manual_weight_proverka.h5\n"
     ]
    },
    {
     "name": "stderr",
     "output_type": "stream",
     "text": [
      "WARNING:absl:You are saving your model as an HDF5 file via `model.save()` or `keras.saving.save_model(model)`. This file format is considered legacy. We recommend using instead the native Keras format, e.g. `model.save('my_model.keras')` or `keras.saving.save_model(model, 'my_model.keras')`. \n"
     ]
    },
    {
     "name": "stdout",
     "output_type": "stream",
     "text": [
      "\u001b[1m15/15\u001b[0m \u001b[32m━━━━━━━━━━━━━━━━━━━━\u001b[0m\u001b[37m\u001b[0m \u001b[1m3s\u001b[0m 230ms/step - accuracy: 0.1954 - loss: 0.9608 - val_accuracy: 0.1538 - val_loss: 1.0246\n",
      "Epoch 15/100\n",
      "\u001b[1m15/15\u001b[0m \u001b[32m━━━━━━━━━━━━━━━━━━━━\u001b[0m\u001b[37m\u001b[0m \u001b[1m0s\u001b[0m 208ms/step - accuracy: 0.1851 - loss: 0.9076\n",
      "Epoch 15: val_loss improved from 1.02460 to 0.94847, saving model to model_8bins_manual_weight_proverka.h5\n"
     ]
    },
    {
     "name": "stderr",
     "output_type": "stream",
     "text": [
      "WARNING:absl:You are saving your model as an HDF5 file via `model.save()` or `keras.saving.save_model(model)`. This file format is considered legacy. We recommend using instead the native Keras format, e.g. `model.save('my_model.keras')` or `keras.saving.save_model(model, 'my_model.keras')`. \n"
     ]
    },
    {
     "name": "stdout",
     "output_type": "stream",
     "text": [
      "\u001b[1m15/15\u001b[0m \u001b[32m━━━━━━━━━━━━━━━━━━━━\u001b[0m\u001b[37m\u001b[0m \u001b[1m3s\u001b[0m 227ms/step - accuracy: 0.1849 - loss: 0.9081 - val_accuracy: 0.4231 - val_loss: 0.9485\n",
      "Epoch 16/100\n",
      "\u001b[1m15/15\u001b[0m \u001b[32m━━━━━━━━━━━━━━━━━━━━\u001b[0m\u001b[37m\u001b[0m \u001b[1m0s\u001b[0m 214ms/step - accuracy: 0.1328 - loss: 0.8833\n",
      "Epoch 16: val_loss improved from 0.94847 to 0.92980, saving model to model_8bins_manual_weight_proverka.h5\n"
     ]
    },
    {
     "name": "stderr",
     "output_type": "stream",
     "text": [
      "WARNING:absl:You are saving your model as an HDF5 file via `model.save()` or `keras.saving.save_model(model)`. This file format is considered legacy. We recommend using instead the native Keras format, e.g. `model.save('my_model.keras')` or `keras.saving.save_model(model, 'my_model.keras')`. \n"
     ]
    },
    {
     "name": "stdout",
     "output_type": "stream",
     "text": [
      "\u001b[1m15/15\u001b[0m \u001b[32m━━━━━━━━━━━━━━━━━━━━\u001b[0m\u001b[37m\u001b[0m \u001b[1m4s\u001b[0m 233ms/step - accuracy: 0.1317 - loss: 0.8839 - val_accuracy: 0.0000e+00 - val_loss: 0.9298\n",
      "Epoch 17/100\n",
      "\u001b[1m15/15\u001b[0m \u001b[32m━━━━━━━━━━━━━━━━━━━━\u001b[0m\u001b[37m\u001b[0m \u001b[1m0s\u001b[0m 207ms/step - accuracy: 0.1799 - loss: 0.9076\n",
      "Epoch 17: val_loss did not improve from 0.92980\n",
      "\u001b[1m15/15\u001b[0m \u001b[32m━━━━━━━━━━━━━━━━━━━━\u001b[0m\u001b[37m\u001b[0m \u001b[1m3s\u001b[0m 222ms/step - accuracy: 0.1781 - loss: 0.9074 - val_accuracy: 0.4231 - val_loss: 1.0750\n",
      "Epoch 18/100\n",
      "\u001b[1m15/15\u001b[0m \u001b[32m━━━━━━━━━━━━━━━━━━━━\u001b[0m\u001b[37m\u001b[0m \u001b[1m0s\u001b[0m 211ms/step - accuracy: 0.2057 - loss: 0.8400\n",
      "Epoch 18: val_loss did not improve from 0.92980\n",
      "\u001b[1m15/15\u001b[0m \u001b[32m━━━━━━━━━━━━━━━━━━━━\u001b[0m\u001b[37m\u001b[0m \u001b[1m3s\u001b[0m 226ms/step - accuracy: 0.2031 - loss: 0.8423 - val_accuracy: 0.4231 - val_loss: 1.0677\n",
      "Epoch 19/100\n",
      "\u001b[1m15/15\u001b[0m \u001b[32m━━━━━━━━━━━━━━━━━━━━\u001b[0m\u001b[37m\u001b[0m \u001b[1m0s\u001b[0m 212ms/step - accuracy: 0.1428 - loss: 0.8650\n",
      "Epoch 19: val_loss did not improve from 0.92980\n",
      "\u001b[1m15/15\u001b[0m \u001b[32m━━━━━━━━━━━━━━━━━━━━\u001b[0m\u001b[37m\u001b[0m \u001b[1m3s\u001b[0m 227ms/step - accuracy: 0.1447 - loss: 0.8649 - val_accuracy: 0.1538 - val_loss: 1.0741\n",
      "Epoch 20/100\n",
      "\u001b[1m15/15\u001b[0m \u001b[32m━━━━━━━━━━━━━━━━━━━━\u001b[0m\u001b[37m\u001b[0m \u001b[1m0s\u001b[0m 208ms/step - accuracy: 0.1402 - loss: 0.8346\n",
      "Epoch 20: val_loss did not improve from 0.92980\n",
      "\u001b[1m15/15\u001b[0m \u001b[32m━━━━━━━━━━━━━━━━━━━━\u001b[0m\u001b[37m\u001b[0m \u001b[1m3s\u001b[0m 223ms/step - accuracy: 0.1414 - loss: 0.8344 - val_accuracy: 0.4231 - val_loss: 1.0665\n",
      "Epoch 21/100\n",
      "\u001b[1m15/15\u001b[0m \u001b[32m━━━━━━━━━━━━━━━━━━━━\u001b[0m\u001b[37m\u001b[0m \u001b[1m0s\u001b[0m 211ms/step - accuracy: 0.1475 - loss: 0.8573\n",
      "Epoch 21: val_loss did not improve from 0.92980\n",
      "\u001b[1m15/15\u001b[0m \u001b[32m━━━━━━━━━━━━━━━━━━━━\u001b[0m\u001b[37m\u001b[0m \u001b[1m3s\u001b[0m 225ms/step - accuracy: 0.1488 - loss: 0.8558 - val_accuracy: 0.4231 - val_loss: 1.0492\n",
      "Epoch 22/100\n",
      "\u001b[1m15/15\u001b[0m \u001b[32m━━━━━━━━━━━━━━━━━━━━\u001b[0m\u001b[37m\u001b[0m \u001b[1m0s\u001b[0m 210ms/step - accuracy: 0.1733 - loss: 0.8278\n",
      "Epoch 22: val_loss did not improve from 0.92980\n",
      "\u001b[1m15/15\u001b[0m \u001b[32m━━━━━━━━━━━━━━━━━━━━\u001b[0m\u001b[37m\u001b[0m \u001b[1m3s\u001b[0m 225ms/step - accuracy: 0.1725 - loss: 0.8274 - val_accuracy: 0.2692 - val_loss: 1.0723\n",
      "Epoch 23/100\n",
      "\u001b[1m15/15\u001b[0m \u001b[32m━━━━━━━━━━━━━━━━━━━━\u001b[0m\u001b[37m\u001b[0m \u001b[1m0s\u001b[0m 212ms/step - accuracy: 0.1469 - loss: 0.7906\n",
      "Epoch 23: val_loss improved from 0.92980 to 0.89101, saving model to model_8bins_manual_weight_proverka.h5\n"
     ]
    },
    {
     "name": "stderr",
     "output_type": "stream",
     "text": [
      "WARNING:absl:You are saving your model as an HDF5 file via `model.save()` or `keras.saving.save_model(model)`. This file format is considered legacy. We recommend using instead the native Keras format, e.g. `model.save('my_model.keras')` or `keras.saving.save_model(model, 'my_model.keras')`. \n"
     ]
    },
    {
     "name": "stdout",
     "output_type": "stream",
     "text": [
      "\u001b[1m15/15\u001b[0m \u001b[32m━━━━━━━━━━━━━━━━━━━━\u001b[0m\u001b[37m\u001b[0m \u001b[1m3s\u001b[0m 230ms/step - accuracy: 0.1485 - loss: 0.7922 - val_accuracy: 0.1538 - val_loss: 0.8910\n",
      "Epoch 24/100\n",
      "\u001b[1m15/15\u001b[0m \u001b[32m━━━━━━━━━━━━━━━━━━━━\u001b[0m\u001b[37m\u001b[0m \u001b[1m0s\u001b[0m 211ms/step - accuracy: 0.1290 - loss: 0.7820\n",
      "Epoch 24: val_loss did not improve from 0.89101\n",
      "\u001b[1m15/15\u001b[0m \u001b[32m━━━━━━━━━━━━━━━━━━━━\u001b[0m\u001b[37m\u001b[0m \u001b[1m3s\u001b[0m 225ms/step - accuracy: 0.1298 - loss: 0.7846 - val_accuracy: 0.1538 - val_loss: 0.8965\n",
      "Epoch 25/100\n",
      "\u001b[1m15/15\u001b[0m \u001b[32m━━━━━━━━━━━━━━━━━━━━\u001b[0m\u001b[37m\u001b[0m \u001b[1m0s\u001b[0m 211ms/step - accuracy: 0.2129 - loss: 0.8442\n",
      "Epoch 25: val_loss improved from 0.89101 to 0.86919, saving model to model_8bins_manual_weight_proverka.h5\n"
     ]
    },
    {
     "name": "stderr",
     "output_type": "stream",
     "text": [
      "WARNING:absl:You are saving your model as an HDF5 file via `model.save()` or `keras.saving.save_model(model)`. This file format is considered legacy. We recommend using instead the native Keras format, e.g. `model.save('my_model.keras')` or `keras.saving.save_model(model, 'my_model.keras')`. \n"
     ]
    },
    {
     "name": "stdout",
     "output_type": "stream",
     "text": [
      "\u001b[1m15/15\u001b[0m \u001b[32m━━━━━━━━━━━━━━━━━━━━\u001b[0m\u001b[37m\u001b[0m \u001b[1m3s\u001b[0m 231ms/step - accuracy: 0.2109 - loss: 0.8446 - val_accuracy: 0.0385 - val_loss: 0.8692\n",
      "Epoch 26/100\n",
      "\u001b[1m15/15\u001b[0m \u001b[32m━━━━━━━━━━━━━━━━━━━━\u001b[0m\u001b[37m\u001b[0m \u001b[1m0s\u001b[0m 212ms/step - accuracy: 0.1782 - loss: 0.8112\n",
      "Epoch 26: val_loss did not improve from 0.86919\n",
      "\u001b[1m15/15\u001b[0m \u001b[32m━━━━━━━━━━━━━━━━━━━━\u001b[0m\u001b[37m\u001b[0m \u001b[1m3s\u001b[0m 228ms/step - accuracy: 0.1775 - loss: 0.8108 - val_accuracy: 0.1538 - val_loss: 1.1005\n",
      "Epoch 27/100\n",
      "\u001b[1m15/15\u001b[0m \u001b[32m━━━━━━━━━━━━━━━━━━━━\u001b[0m\u001b[37m\u001b[0m \u001b[1m0s\u001b[0m 210ms/step - accuracy: 0.1767 - loss: 0.7992\n",
      "Epoch 27: val_loss did not improve from 0.86919\n",
      "\u001b[1m15/15\u001b[0m \u001b[32m━━━━━━━━━━━━━━━━━━━━\u001b[0m\u001b[37m\u001b[0m \u001b[1m3s\u001b[0m 225ms/step - accuracy: 0.1762 - loss: 0.7986 - val_accuracy: 0.1538 - val_loss: 1.3642\n",
      "Epoch 28/100\n",
      "\u001b[1m15/15\u001b[0m \u001b[32m━━━━━━━━━━━━━━━━━━━━\u001b[0m\u001b[37m\u001b[0m \u001b[1m0s\u001b[0m 210ms/step - accuracy: 0.2378 - loss: 0.7572\n",
      "Epoch 28: val_loss did not improve from 0.86919\n",
      "\u001b[1m15/15\u001b[0m \u001b[32m━━━━━━━━━━━━━━━━━━━━\u001b[0m\u001b[37m\u001b[0m \u001b[1m3s\u001b[0m 224ms/step - accuracy: 0.2367 - loss: 0.7582 - val_accuracy: 0.2308 - val_loss: 1.2929\n",
      "Epoch 29/100\n",
      "\u001b[1m15/15\u001b[0m \u001b[32m━━━━━━━━━━━━━━━━━━━━\u001b[0m\u001b[37m\u001b[0m \u001b[1m0s\u001b[0m 210ms/step - accuracy: 0.2255 - loss: 0.7959\n",
      "Epoch 29: val_loss did not improve from 0.86919\n",
      "\u001b[1m15/15\u001b[0m \u001b[32m━━━━━━━━━━━━━━━━━━━━\u001b[0m\u001b[37m\u001b[0m \u001b[1m3s\u001b[0m 226ms/step - accuracy: 0.2244 - loss: 0.7942 - val_accuracy: 0.1923 - val_loss: 1.2307\n",
      "Epoch 30/100\n",
      "\u001b[1m15/15\u001b[0m \u001b[32m━━━━━━━━━━━━━━━━━━━━\u001b[0m\u001b[37m\u001b[0m \u001b[1m0s\u001b[0m 212ms/step - accuracy: 0.2310 - loss: 0.7681\n",
      "Epoch 30: val_loss did not improve from 0.86919\n",
      "\u001b[1m15/15\u001b[0m \u001b[32m━━━━━━━━━━━━━━━━━━━━\u001b[0m\u001b[37m\u001b[0m \u001b[1m3s\u001b[0m 227ms/step - accuracy: 0.2300 - loss: 0.7691 - val_accuracy: 0.1923 - val_loss: 1.1505\n",
      "Epoch 31/100\n",
      "\u001b[1m15/15\u001b[0m \u001b[32m━━━━━━━━━━━━━━━━━━━━\u001b[0m\u001b[37m\u001b[0m \u001b[1m0s\u001b[0m 211ms/step - accuracy: 0.2102 - loss: 0.7804\n",
      "Epoch 31: val_loss did not improve from 0.86919\n",
      "\u001b[1m15/15\u001b[0m \u001b[32m━━━━━━━━━━━━━━━━━━━━\u001b[0m\u001b[37m\u001b[0m \u001b[1m3s\u001b[0m 226ms/step - accuracy: 0.2102 - loss: 0.7806 - val_accuracy: 0.1923 - val_loss: 1.0914\n",
      "Epoch 32/100\n",
      "\u001b[1m15/15\u001b[0m \u001b[32m━━━━━━━━━━━━━━━━━━━━\u001b[0m\u001b[37m\u001b[0m \u001b[1m0s\u001b[0m 208ms/step - accuracy: 0.2214 - loss: 0.8332\n",
      "Epoch 32: val_loss did not improve from 0.86919\n",
      "\u001b[1m15/15\u001b[0m \u001b[32m━━━━━━━━━━━━━━━━━━━━\u001b[0m\u001b[37m\u001b[0m \u001b[1m3s\u001b[0m 223ms/step - accuracy: 0.2216 - loss: 0.8334 - val_accuracy: 0.1538 - val_loss: 1.3935\n",
      "Epoch 33/100\n",
      "\u001b[1m15/15\u001b[0m \u001b[32m━━━━━━━━━━━━━━━━━━━━\u001b[0m\u001b[37m\u001b[0m \u001b[1m0s\u001b[0m 209ms/step - accuracy: 0.1739 - loss: 0.8555\n",
      "Epoch 33: val_loss did not improve from 0.86919\n",
      "\u001b[1m15/15\u001b[0m \u001b[32m━━━━━━━━━━━━━━━━━━━━\u001b[0m\u001b[37m\u001b[0m \u001b[1m3s\u001b[0m 223ms/step - accuracy: 0.1749 - loss: 0.8565 - val_accuracy: 0.0769 - val_loss: 1.3401\n",
      "Epoch 34/100\n",
      "\u001b[1m15/15\u001b[0m \u001b[32m━━━━━━━━━━━━━━━━━━━━\u001b[0m\u001b[37m\u001b[0m \u001b[1m0s\u001b[0m 215ms/step - accuracy: 0.2354 - loss: 0.9302\n",
      "Epoch 34: val_loss did not improve from 0.86919\n",
      "\u001b[1m15/15\u001b[0m \u001b[32m━━━━━━━━━━━━━━━━━━━━\u001b[0m\u001b[37m\u001b[0m \u001b[1m3s\u001b[0m 229ms/step - accuracy: 0.2347 - loss: 0.9300 - val_accuracy: 0.0000e+00 - val_loss: 1.0364\n",
      "Epoch 35/100\n",
      "\u001b[1m15/15\u001b[0m \u001b[32m━━━━━━━━━━━━━━━━━━━━\u001b[0m\u001b[37m\u001b[0m \u001b[1m0s\u001b[0m 210ms/step - accuracy: 0.2125 - loss: 0.8942\n",
      "Epoch 35: val_loss did not improve from 0.86919\n",
      "\u001b[1m15/15\u001b[0m \u001b[32m━━━━━━━━━━━━━━━━━━━━\u001b[0m\u001b[37m\u001b[0m \u001b[1m3s\u001b[0m 225ms/step - accuracy: 0.2103 - loss: 0.8957 - val_accuracy: 0.0000e+00 - val_loss: 1.0450\n",
      "Epoch 35: early stopping\n",
      "Restoring model weights from the end of the best epoch: 25.\n",
      "\u001b[1m3/3\u001b[0m \u001b[32m━━━━━━━━━━━━━━━━━━━━\u001b[0m\u001b[37m\u001b[0m \u001b[1m1s\u001b[0m 221ms/step\n",
      "\n",
      "Exact match accuracy : 0.3333\n",
      "Bitwise accuracy : 0.6837\n",
      "Overall MCC : 0.2965\n",
      "\n",
      "Classification report :\n",
      "              precision    recall  f1-score   support\n",
      "\n",
      "           0       0.90      0.68      0.78       427\n",
      "           1       0.34      0.68      0.45       101\n",
      "\n",
      "    accuracy                           0.68       528\n",
      "   macro avg       0.62      0.68      0.62       528\n",
      "weighted avg       0.79      0.68      0.72       528\n",
      "\n"
     ]
    }
   ],
   "source": [
    "import numpy as np\n",
    "import pandas as pd\n",
    "from sklearn.model_selection import train_test_split\n",
    "import tensorflow as tf\n",
    "from tensorflow.keras.models import Sequential\n",
    "from tensorflow.keras.layers import Conv1D, MaxPooling1D, LSTM, Dense, Dropout, BatchNormalization\n",
    "from tensorflow.keras.optimizers import Adam\n",
    "from tensorflow.keras.callbacks import EarlyStopping, ModelCheckpoint\n",
    "from sklearn.metrics import matthews_corrcoef, classification_report, accuracy_score\n",
    "\n",
    "# ===============================\n",
    "# 1. loading data and initial processing\n",
    "# ===============================\n",
    "df = pd.read_csv('uniq2_table.csv')\n",
    "\n",
    "required_cols = [\n",
    "    'data', 'Time',\n",
    "    'peak_usa', 'peak_germany', 'peak_australia',\n",
    "    'peak_italy', 'peak_iceland', 'peak_uk',\n",
    "    'bin_flag_peak_usa', 'bin_flag_peak_germany', 'bin_flag_peak_australia',\n",
    "    'bin_flag_peak_italy', 'bin_flag_peak_iceland', 'bin_flag_peak_uk'\n",
    "]\n",
    "assert all(col in df.columns for col in required_cols), \"Не вистачає необхідних стовпців!\"\n",
    "df.dropna(subset=required_cols, inplace=True)\n",
    "\n",
    "cases = df['data'].unique()\n",
    "train_cases, test_cases = train_test_split(cases, test_size=0.2, random_state=42)\n",
    "\n",
    "# ===============================\n",
    "# 2. function for creating X and y \n",
    "# ===============================\n",
    "def build_samples_for_case(df_case):\n",
    "    station_list = [\n",
    "        'peak_usa', 'peak_germany', 'peak_australia',\n",
    "        'peak_italy', 'peak_iceland', 'peak_uk'\n",
    "    ]\n",
    "    binflag_list = [\n",
    "        'bin_flag_peak_usa', 'bin_flag_peak_germany', 'bin_flag_peak_australia',\n",
    "        'bin_flag_peak_italy', 'bin_flag_peak_iceland', 'bin_flag_peak_uk'\n",
    "    ]\n",
    "    bins = np.arange(0, 241, 30)  # 0,30,60,...,240\n",
    "    df_case = df_case.copy()\n",
    "    df_case['time_bin'] = pd.cut(df_case['Time'], bins=bins, right=False)\n",
    "    bins_intervals = df_case['time_bin'].cat.categories\n",
    "\n",
    "    X_case_all = []\n",
    "    y_case_all = []\n",
    "\n",
    "    for station, flag_col in zip(station_list, binflag_list):\n",
    "        bin_slices = []\n",
    "        bin_labels = []\n",
    "        valid = True\n",
    "\n",
    "        for interval in bins_intervals:\n",
    "            mask = (df_case['time_bin'] == interval)\n",
    "            arr_signal = df_case.loc[mask, station].values\n",
    "            arr_flag = df_case.loc[mask, flag_col].values\n",
    "\n",
    "            count = arr_signal.shape[0]\n",
    "            if count == 0:\n",
    "                valid = False\n",
    "                break\n",
    "\n",
    "            if count < 1500:\n",
    "                last_val = arr_signal[-1]\n",
    "                padding = np.full((1500 - count,), last_val, dtype=arr_signal.dtype)\n",
    "                arr_signal = np.concatenate([arr_signal, padding])\n",
    "                flag_value = int(arr_flag[0]) if arr_flag.size > 0 else 0\n",
    "            else:\n",
    "                arr_signal = arr_signal[:1500]\n",
    "                flag_value = int(arr_flag[0])\n",
    "\n",
    "            bin_slices.append(arr_signal)\n",
    "            bin_labels.append(flag_value)\n",
    "\n",
    "        if not valid:\n",
    "            continue\n",
    "\n",
    "        X_sample = np.stack(bin_slices, axis=0).T  # (1500, 8)\n",
    "        y_sample = np.array(bin_labels, dtype=int)  # (8,)\n",
    "\n",
    "        X_case_all.append(X_sample)\n",
    "        y_case_all.append(y_sample)\n",
    "\n",
    "    return X_case_all, y_case_all\n",
    "\n",
    "# ===============================\n",
    "# 3. assembling X and y for train/test\n",
    "# ===============================\n",
    "X_train_list, y_train_list = [], []\n",
    "X_test_list,  y_test_list  = [], []\n",
    "\n",
    "for case in train_cases:\n",
    "    df_case = df[df['data'] == case].sort_values('Time').reset_index(drop=True)\n",
    "    Xc, yc = build_samples_for_case(df_case)\n",
    "    X_train_list.extend(Xc)\n",
    "    y_train_list.extend(yc)\n",
    "\n",
    "for case in test_cases:\n",
    "    df_case = df[df['data'] == case].sort_values('Time').reset_index(drop=True)\n",
    "    Xc, yc = build_samples_for_case(df_case)\n",
    "    X_test_list.extend(Xc)\n",
    "    y_test_list.extend(yc)\n",
    "\n",
    "if not X_train_list or not X_test_list:\n",
    "    raise RuntimeError(\"after building the dataset, nothing is left!\")\n",
    "\n",
    "X_train = np.stack(X_train_list, axis=0)  # (n_train, 1500, 8)\n",
    "y_train = np.stack(y_train_list, axis=0)  # (n_train, 8)\n",
    "X_test  = np.stack(X_test_list, axis=0)   # (n_test, 1500, 8)\n",
    "y_test  = np.stack(y_test_list, axis=0)   # (n_test, 8)\n",
    "\n",
    "print(\"X_train shape:\", X_train.shape)\n",
    "print(\"y_train shape:\", y_train.shape)\n",
    "print(\"X_test shape:\",  X_test.shape)\n",
    "print(\"y_test shape:\",  y_test.shape)\n",
    "\n",
    "# ===============================\n",
    "#  4. calculate pos_weight for each of the 8 bins\n",
    "# ===============================\n",
    "#Simply specify the desired class weight ratio for 0 and 1:\n",
    "#for example, if you want the positive class to have a weight of 5.0 and the negative class to have 1.0, set:\n",
    "WEIGHT_POS = 3.0 # weight for cases where y_true == 1\n",
    "WEIGHT_NEG = 1.0 # weight for cases where y_true == 0\n",
    "\n",
    "#pos_weight_tf will be a scalar (weight for logits of \"1\")\n",
    "#In tf.nn.weighted_cross_entropy_with_logits, pos_weight defines\n",
    "#how much more the model penalizes errors when y_true=1 (false negatives).\n",
    "pos_weight_tf = tf.constant(WEIGHT_POS, dtype=tf.float32)\n",
    "\n",
    "\n",
    "# ===============================\n",
    "# 5. Custom weighted BCE\n",
    "# ===============================\n",
    "def weighted_bce_manual(y_true, y_pred_logits):\n",
    "    \"\"\"\n",
    "Use WEIGHT_POS as the weight for cases where y_true=1.\n",
    "y_true: (batch_size, 8)\n",
    "y_pred_logits: (batch_size, 8)\n",
    "\"\"\"\n",
    "    y_true_f = tf.cast(y_true, tf.float32)\n",
    "    logits_f = tf.cast(y_pred_logits, tf.float32)\n",
    "\n",
    "    # tf.nn.weighted_cross_entropy_with_logits takes pos_weight (scalar)\n",
    "    # and automatically treats the weight for y_true=0 as 1.\n",
    "    loss_per_entry = tf.nn.weighted_cross_entropy_with_logits(\n",
    "        labels=y_true_f,\n",
    "        logits=logits_f,\n",
    "        pos_weight=pos_weight_tf\n",
    "    )\n",
    "    #loss_per_entry shape = (batch_size, 8)\n",
    "    #averaging over 8 bits → we get the loss per batch row:\n",
    "    return tf.reduce_mean(loss_per_entry, axis=-1)\n",
    "\n",
    "# ===============================\n",
    "# 6. Building the model (last layer without activation)\n",
    "# ===============================\n",
    "model = Sequential([\n",
    "    Conv1D(128, 5, padding='same', activation='relu', input_shape=(1500, 8)),\n",
    "    BatchNormalization(),\n",
    "    MaxPooling1D(2),\n",
    "    Dropout(0.2),\n",
    "\n",
    "    Conv1D(256, 3, padding='same', activation='relu'),\n",
    "    BatchNormalization(),\n",
    "    MaxPooling1D(2),\n",
    "    Dropout(0.2),\n",
    "\n",
    "    LSTM(64, return_sequences=False),\n",
    "    Dropout(0.2),\n",
    "\n",
    "    Dense(8, activation=None) # returns logits for 8 bits\n",
    "])\n",
    "\n",
    "model.compile(\n",
    "    optimizer=Adam(learning_rate=0.001),\n",
    "    loss=weighted_bce_manual,\n",
    "    metrics=['accuracy']\n",
    ")\n",
    "model.summary()\n",
    "\n",
    "# ===============================\n",
    "# 7. Training\n",
    "# ===============================\n",
    "early_stopping = EarlyStopping(\n",
    "    monitor='val_loss', patience=10, verbose=1, restore_best_weights=True\n",
    ")\n",
    "checkpoint = ModelCheckpoint(\n",
    "    filepath='experiment_3.h5',\n",
    "    monitor='val_loss', save_best_only=True, verbose=1\n",
    ")\n",
    "\n",
    "history = model.fit(\n",
    "    X_train, y_train,\n",
    "    epochs=100,\n",
    "    batch_size=16,\n",
    "    validation_split=0.1,\n",
    "    callbacks=[early_stopping, checkpoint],\n",
    "    verbose=1\n",
    ")\n",
    "\n",
    "# ===============================\n",
    "# 8. evaluation of overall accuracy (all bits together)\n",
    "# ===============================\n",
    "y_pred_logits = model.predict(X_test)             # (n_test, 8)\n",
    "y_pred_prob   = tf.sigmoid(y_pred_logits).numpy()  # (n_test, 8)\n",
    "y_pred_bin    = (y_pred_prob >= 0.5).astype(int)   # binary predictions\n",
    "\n",
    "y_true = y_test.astype(int)\n",
    "\n",
    "# 1) exact match accuracy: whether all 8 bits are predicted correctly at once\n",
    "exact_match = np.all(y_pred_bin == y_true, axis=1)\n",
    "exact_match_accuracy = np.mean(exact_match)\n",
    "print(f\"\\nExact match accuracy : {exact_match_accuracy:.4f}\")\n",
    "\n",
    "# 2)  bitwise accuracy (all bits separately)\n",
    "flat_true = y_true.flatten()\n",
    "flat_pred = y_pred_bin.flatten()\n",
    "bitwise_accuracy = accuracy_score(flat_true, flat_pred)\n",
    "print(f\"Bitwise accuracy : {bitwise_accuracy:.4f}\")\n",
    "\n",
    "# 3) overall MCC and classification report across all bits\n",
    "mcc_overall = matthews_corrcoef(flat_true, flat_pred)\n",
    "print(f\"Overall MCC : {mcc_overall:.4f}\\n\")\n",
    "print(\"Classification report :\")\n",
    "print(classification_report(flat_true, flat_pred, zero_division=0))\n"
   ]
  },
  {
   "cell_type": "code",
   "execution_count": 4,
   "id": "6613ad78-6a1e-495f-93d9-0129d7c5568d",
   "metadata": {},
   "outputs": [
    {
     "name": "stdout",
     "output_type": "stream",
     "text": [
      "Найкращий поріг за MCC: 0.35, MCC = 0.3592\n",
      "\n",
      "Classification report for optimal threshold:\n",
      "              precision    recall  f1-score   support\n",
      "\n",
      "           0       0.99      0.45      0.62       427\n",
      "           1       0.30      0.99      0.46       101\n",
      "\n",
      "    accuracy                           0.55       528\n",
      "   macro avg       0.65      0.72      0.54       528\n",
      "weighted avg       0.86      0.55      0.59       528\n",
      "\n"
     ]
    }
   ],
   "source": [
    "# ===============================\n",
    "# 9. search for the optimal threshold by MCC\n",
    "# ===============================\n",
    "# use y_pred_prob and y_true from the previous code\n",
    "from sklearn.metrics import matthews_corrcoef\n",
    "\n",
    "# convert y_test probabilities into 1D arrays for MCC calculation\n",
    "flat_true = y_true.flatten()\n",
    "best_mcc = -1.0\n",
    "best_thresh = 0.0\n",
    "\n",
    "# iterate over thresholds from 0.0 to 1.0 with a step of 0.01\n",
    "for thresh in np.linspace(0, 1, 101):\n",
    "    y_pred_bin_thresh = (y_pred_prob >= thresh).astype(int).flatten()\n",
    "    mcc = matthews_corrcoef(flat_true, y_pred_bin_thresh)\n",
    "    if mcc > best_mcc:\n",
    "        best_mcc = mcc\n",
    "        best_thresh = thresh\n",
    "\n",
    "print(f\"best threshold by MCC: {best_thresh:.2f}, MCC = {best_mcc:.4f}\")\n",
    "\n",
    "\n",
    "y_pred_optimal = (y_pred_prob >= best_thresh).astype(int).flatten()\n",
    "print(\"\\nClassification report for optimal threshold:\")\n",
    "print(classification_report(flat_true, y_pred_optimal, zero_division=0))\n"
   ]
  },
  {
   "cell_type": "code",
   "execution_count": null,
   "id": "f874e83c-8e3f-4635-a178-5ddae3f73863",
   "metadata": {},
   "outputs": [],
   "source": []
  }
 ],
 "metadata": {
  "kernelspec": {
   "display_name": "Python 3 (ipykernel)",
   "language": "python",
   "name": "python3"
  },
  "language_info": {
   "codemirror_mode": {
    "name": "ipython",
    "version": 3
   },
   "file_extension": ".py",
   "mimetype": "text/x-python",
   "name": "python",
   "nbconvert_exporter": "python",
   "pygments_lexer": "ipython3",
   "version": "3.12.10"
  }
 },
 "nbformat": 4,
 "nbformat_minor": 5
}
