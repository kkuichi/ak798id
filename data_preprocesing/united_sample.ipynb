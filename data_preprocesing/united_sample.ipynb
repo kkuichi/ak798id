{
 "cells": [
  {
   "cell_type": "code",
   "execution_count": 2,
   "id": "1022057f-9267-4885-b6c6-d8375f854ec7",
   "metadata": {},
   "outputs": [
    {
     "name": "stdout",
     "output_type": "stream",
     "text": [
      "saved the combined table to a file: uniq2_table.csv\n"
     ]
    }
   ],
   "source": [
    "import pandas as pd\n",
    "import os\n",
    "\n",
    "# path to the folder where the tables (CSV files) are located\n",
    "folder_path = 'grb_csv/processed/processed3'\n",
    "\n",
    "# get the list of all CSV files in the folder\n",
    "csv_files = [f for f in os.listdir(folder_path) if f.endswith('.csv')]\n",
    "\n",
    "# create an empty list to store the tables\n",
    "dataframes = []\n",
    "\n",
    "# load each CSV file into a DataFrame and add it to the list\n",
    "\n",
    "for file in csv_files:\n",
    "    file_path = os.path.join(folder_path, file)\n",
    "    df = pd.read_csv(file_path)\n",
    "    dataframes.append(df)\n",
    "\n",
    "# combine all DataFrames into one\n",
    "\n",
    "mega_df = pd.concat(dataframes, ignore_index=True)\n",
    "\n",
    "\n",
    "# save the combined table to a file\n",
    "output_file = 'uniq2_table.csv'\n",
    "mega_df.to_csv(output_file, index=False)\n",
    "\n",
    "print(f\"saved the combined table to a file: {output_file}\")\n"
   ]
  },
  {
   "cell_type": "code",
   "execution_count": null,
   "id": "04437c03-2db1-4118-b6e5-195173ef2c52",
   "metadata": {},
   "outputs": [],
   "source": []
  }
 ],
 "metadata": {
  "kernelspec": {
   "display_name": "Python 3 (ipykernel)",
   "language": "python",
   "name": "python3"
  },
  "language_info": {
   "codemirror_mode": {
    "name": "ipython",
    "version": 3
   },
   "file_extension": ".py",
   "mimetype": "text/x-python",
   "name": "python",
   "nbconvert_exporter": "python",
   "pygments_lexer": "ipython3",
   "version": "3.12.10"
  }
 },
 "nbformat": 4,
 "nbformat_minor": 5
}
