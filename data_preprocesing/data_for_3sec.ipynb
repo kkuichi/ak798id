{
 "cells": [
  {
   "cell_type": "code",
   "execution_count": 11,
   "id": "198f4675-7182-4c56-9ad4-130e253d77fd",
   "metadata": {},
   "outputs": [],
   "source": [
    "def prepare(df):\n",
    "    import numpy as np\n",
    "    import pandas as pd\n",
    "    \n",
    "   # define the time bin: from 0 to 240 seconds with a step of 5 seconds\n",
    "    bins = np.arange(0, 241, 5)\n",
    "    # columns for stations\n",
    "    station_cols = ['peak_usa', 'peak_germany', 'peak_australia', \n",
    "                    'peak_italy', 'peak_iceland', 'peak_uk']\n",
    "    \n",
    "    # add a column to the DataFrame that determines which bin each row belongs to\n",
    "    df['time_bin'] = pd.cut(df['Time'], bins=bins, right=False)\n",
    "    \n",
    "    # group the data by bin and sum the values for each station\n",
    "    # assuming that the values in station_cols are 0 or 1\n",
    "    grouped_sums = df.groupby('time_bin')[station_cols].sum()\n",
    "     # grouped_sums will have shape \n",
    "    \n",
    "    # calculate the threshold for each station: average value across all bins multiplied by 2\n",
    "    means = grouped_sums.mean()\n",
    "    thresholds = means * 2\n",
    "    \n",
    "    # for each bin and each station, determine if the sum exceeds the threshold\n",
    "    # exceed_df is a DataFrame with boolean values where True means the threshold is exceeded\n",
    "    exceed_df = grouped_sums > thresholds\n",
    "    \n",
    "    # for each station, create a separate column with a binary flag\n",
    "    # 1 if the sum for the given bin exceeds the threshold, otherwise 0\n",
    "    for station in station_cols:\n",
    "        flag_col = f'bin_flag_{station}'\n",
    "        # for each row in the original DataFrame using the 'time_bin' column\n",
    "        # map the values from exceed_df for the corresponding station (converting the boolean value to 0 or 1)\n",
    "        df[flag_col] = df['time_bin'].map(exceed_df[station].astype(int))\n",
    "    \n",
    "    return df\n"
   ]
  },
  {
   "cell_type": "code",
   "execution_count": 12,
   "id": "0b6924eb-4df8-4257-9709-8babe0ee65f6",
   "metadata": {},
   "outputs": [
    {
     "name": "stdout",
     "output_type": "stream",
     "text": [
      "Обработка файлов завершена. Результаты сохранены в папку: grb_csv/processed/processed_3sec\n"
     ]
    }
   ],
   "source": [
    "import os\n",
    "import numpy as np\n",
    "import pandas as pd\n",
    "folder_path = 'grb_csv/processed'\n",
    "\n",
    "\n",
    "csv_files = [f for f in os.listdir(folder_path) if f.endswith('.csv')]\n",
    "\n",
    "output_folder = os.path.join(folder_path, 'processed_3sec')\n",
    "os.makedirs(output_folder, exist_ok=True)\n",
    "\n",
    "for file_name in csv_files:\n",
    "   \n",
    "    file_path = os.path.join(folder_path, file_name)\n",
    "    \n",
    "   \n",
    "    data = pd.read_csv(file_path)\n",
    "    \n",
    "    data2 = prepare(data)\n",
    "    \n",
    "    \n",
    "  \n",
    "    output_file_path = os.path.join(output_folder, file_name)\n",
    "    data2.to_csv(output_file_path, index=False)\n",
    "\n",
    "print(f\"file processing completed; results saved to the folder: {output_folder}\")"
   ]
  },
  {
   "cell_type": "code",
   "execution_count": null,
   "id": "ce0c8a97-ff74-4b61-b9d0-ee71444e6f34",
   "metadata": {},
   "outputs": [],
   "source": []
  }
 ],
 "metadata": {
  "kernelspec": {
   "display_name": "Python 3 (ipykernel)",
   "language": "python",
   "name": "python3"
  },
  "language_info": {
   "codemirror_mode": {
    "name": "ipython",
    "version": 3
   },
   "file_extension": ".py",
   "mimetype": "text/x-python",
   "name": "python",
   "nbconvert_exporter": "python",
   "pygments_lexer": "ipython3",
   "version": "3.12.10"
  }
 },
 "nbformat": 4,
 "nbformat_minor": 5
}
