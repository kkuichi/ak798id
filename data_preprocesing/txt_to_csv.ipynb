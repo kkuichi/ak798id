{
 "cells": [
  {
   "cell_type": "code",
   "execution_count": 4,
   "id": "36eb88e9-c7a0-4651-b7b7-f471bc1ad902",
   "metadata": {},
   "outputs": [],
   "source": [
    "import os\n",
    "import csv\n",
    "import pandas as pd\n",
    "\n",
    "directory_enter = \"grb_txt\"\n",
    "directory_exit = \"grb_csv\"\n",
    "\n",
    "os.makedirs(directory_exit, exist_ok=True)\n",
    "      \n",
    "for filename in os.listdir(directory_enter):\n",
    "    if filename.endswith(\".txt\"):\n",
    "        txt_path = os.path.join(directory_enter, filename)\n",
    "        data = pd.read_csv(txt_path, sep='\\t', header=None)    \n",
    "        csv_filename = filename.replace('.txt', '.csv')\n",
    "        csv_path = os.path.join(directory_exit, csv_filename)\n",
    "                        \n",
    "        data.to_csv(csv_path, index=False)"
   ]
  },
  {
   "cell_type": "code",
   "execution_count": null,
   "id": "86c4fe57-8a7c-4dbd-a238-af02e727a669",
   "metadata": {},
   "outputs": [],
   "source": []
  }
 ],
 "metadata": {
  "kernelspec": {
   "display_name": "Python 3 (ipykernel)",
   "language": "python",
   "name": "python3"
  },
  "language_info": {
   "codemirror_mode": {
    "name": "ipython",
    "version": 3
   },
   "file_extension": ".py",
   "mimetype": "text/x-python",
   "name": "python",
   "nbconvert_exporter": "python",
   "pygments_lexer": "ipython3",
   "version": "3.12.10"
  }
 },
 "nbformat": 4,
 "nbformat_minor": 5
}
